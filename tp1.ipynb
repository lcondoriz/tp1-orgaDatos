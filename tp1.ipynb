{
 "cells": [
  {
   "cell_type": "code",
   "execution_count": 1,
   "metadata": {},
   "outputs": [],
   "source": [
    "# Datos\n",
    "import numpy as np\n",
    "import pandas as pd\n",
    "\n",
    "import matplotlib.pyplot as plt\n",
    "import seaborn as sns"
   ]
  },
  {
   "cell_type": "markdown",
   "metadata": {},
   "source": [
    "# `cleaned_reviews.csv`"
   ]
  },
  {
   "cell_type": "markdown",
   "metadata": {},
   "source": [
    "## Análisis Exploratorio"
   ]
  },
  {
   "cell_type": "markdown",
   "metadata": {},
   "source": [
    "### Carga de datos"
   ]
  },
  {
   "cell_type": "code",
   "execution_count": 2,
   "metadata": {},
   "outputs": [],
   "source": [
    "df_cleaned_reviews = pd.read_csv('dataset/cleaned_reviews.csv')"
   ]
  },
  {
   "cell_type": "markdown",
   "metadata": {},
   "source": [
    "### Revisión de datos"
   ]
  },
  {
   "cell_type": "markdown",
   "metadata": {},
   "source": [
    "Comprueba la estructura de los datos, como la cantidad de filas y columnas, los tipos de datos de cada columna, y si hay datos faltantes o valores atípicos."
   ]
  },
  {
   "cell_type": "code",
   "execution_count": 3,
   "metadata": {},
   "outputs": [
    {
     "data": {
      "text/html": [
       "<div>\n",
       "<style scoped>\n",
       "    .dataframe tbody tr th:only-of-type {\n",
       "        vertical-align: middle;\n",
       "    }\n",
       "\n",
       "    .dataframe tbody tr th {\n",
       "        vertical-align: top;\n",
       "    }\n",
       "\n",
       "    .dataframe thead th {\n",
       "        text-align: right;\n",
       "    }\n",
       "</style>\n",
       "<table border=\"1\" class=\"dataframe\">\n",
       "  <thead>\n",
       "    <tr style=\"text-align: right;\">\n",
       "      <th></th>\n",
       "      <th>Unnamed: 0</th>\n",
       "      <th>reviews</th>\n",
       "      <th>rates</th>\n",
       "      <th>date</th>\n",
       "      <th>country</th>\n",
       "      <th>verified</th>\n",
       "      <th>comments</th>\n",
       "    </tr>\n",
       "  </thead>\n",
       "  <tbody>\n",
       "    <tr>\n",
       "      <th>0</th>\n",
       "      <td>0</td>\n",
       "      <td>✅ Trip Verified | Excellent service both on th...</td>\n",
       "      <td>5</td>\n",
       "      <td>2023-01-24</td>\n",
       "      <td>United Kingdom</td>\n",
       "      <td>True</td>\n",
       "      <td>excellent service ground board first class pro...</td>\n",
       "    </tr>\n",
       "    <tr>\n",
       "      <th>1</th>\n",
       "      <td>1</td>\n",
       "      <td>✅ Trip Verified |  Good lounge at Cape Town. O...</td>\n",
       "      <td>9</td>\n",
       "      <td>2023-01-24</td>\n",
       "      <td>United Kingdom</td>\n",
       "      <td>True</td>\n",
       "      <td>good lounge cape town time departure drink hig...</td>\n",
       "    </tr>\n",
       "    <tr>\n",
       "      <th>2</th>\n",
       "      <td>2</td>\n",
       "      <td>✅ Trip Verified |  A really excellent journey....</td>\n",
       "      <td>9</td>\n",
       "      <td>2023-01-23</td>\n",
       "      <td>United Kingdom</td>\n",
       "      <td>True</td>\n",
       "      <td>really excellent journey lounge overcrowded la...</td>\n",
       "    </tr>\n",
       "    <tr>\n",
       "      <th>3</th>\n",
       "      <td>3</td>\n",
       "      <td>✅ Trip Verified |  This flight was one of the ...</td>\n",
       "      <td>9</td>\n",
       "      <td>2023-01-21</td>\n",
       "      <td>United Kingdom</td>\n",
       "      <td>True</td>\n",
       "      <td>flight one worst ever life wanted pamper bough...</td>\n",
       "    </tr>\n",
       "    <tr>\n",
       "      <th>4</th>\n",
       "      <td>4</td>\n",
       "      <td>Not Verified | It seems that there is a race t...</td>\n",
       "      <td>2</td>\n",
       "      <td>2023-01-19</td>\n",
       "      <td>United States</td>\n",
       "      <td>False</td>\n",
       "      <td>verified seems race bottom amongst airline can...</td>\n",
       "    </tr>\n",
       "  </tbody>\n",
       "</table>\n",
       "</div>"
      ],
      "text/plain": [
       "   Unnamed: 0                                            reviews  rates  \\\n",
       "0           0  ✅ Trip Verified | Excellent service both on th...      5   \n",
       "1           1  ✅ Trip Verified |  Good lounge at Cape Town. O...      9   \n",
       "2           2  ✅ Trip Verified |  A really excellent journey....      9   \n",
       "3           3  ✅ Trip Verified |  This flight was one of the ...      9   \n",
       "4           4  Not Verified | It seems that there is a race t...      2   \n",
       "\n",
       "         date         country  verified  \\\n",
       "0  2023-01-24  United Kingdom      True   \n",
       "1  2023-01-24  United Kingdom      True   \n",
       "2  2023-01-23  United Kingdom      True   \n",
       "3  2023-01-21  United Kingdom      True   \n",
       "4  2023-01-19   United States     False   \n",
       "\n",
       "                                            comments  \n",
       "0  excellent service ground board first class pro...  \n",
       "1  good lounge cape town time departure drink hig...  \n",
       "2  really excellent journey lounge overcrowded la...  \n",
       "3  flight one worst ever life wanted pamper bough...  \n",
       "4  verified seems race bottom amongst airline can...  "
      ]
     },
     "execution_count": 3,
     "metadata": {},
     "output_type": "execute_result"
    }
   ],
   "source": [
    "df_cleaned_reviews.head()"
   ]
  },
  {
   "cell_type": "code",
   "execution_count": 4,
   "metadata": {},
   "outputs": [
    {
     "name": "stdout",
     "output_type": "stream",
     "text": [
      "(3411, 7)\n"
     ]
    }
   ],
   "source": [
    "# Cantidad de filas y columnas\n",
    "print(df_cleaned_reviews.shape)"
   ]
  },
  {
   "cell_type": "code",
   "execution_count": 5,
   "metadata": {},
   "outputs": [
    {
     "name": "stdout",
     "output_type": "stream",
     "text": [
      "<class 'pandas.core.frame.DataFrame'>\n",
      "RangeIndex: 3411 entries, 0 to 3410\n",
      "Data columns (total 7 columns):\n",
      " #   Column      Non-Null Count  Dtype \n",
      "---  ------      --------------  ----- \n",
      " 0   Unnamed: 0  3411 non-null   int64 \n",
      " 1   reviews     3411 non-null   object\n",
      " 2   rates       3411 non-null   int64 \n",
      " 3   date        3411 non-null   object\n",
      " 4   country     3411 non-null   object\n",
      " 5   verified    3411 non-null   bool  \n",
      " 6   comments    3411 non-null   object\n",
      "dtypes: bool(1), int64(2), object(4)\n",
      "memory usage: 163.3+ KB\n"
     ]
    }
   ],
   "source": [
    "df_cleaned_reviews.info()"
   ]
  },
  {
   "cell_type": "markdown",
   "metadata": {},
   "source": [
    "valores nulos"
   ]
  },
  {
   "cell_type": "code",
   "execution_count": 6,
   "metadata": {},
   "outputs": [
    {
     "data": {
      "text/plain": [
       "Unnamed: 0    0\n",
       "reviews       0\n",
       "rates         0\n",
       "date          0\n",
       "country       0\n",
       "verified      0\n",
       "comments      0\n",
       "dtype: int64"
      ]
     },
     "execution_count": 6,
     "metadata": {},
     "output_type": "execute_result"
    }
   ],
   "source": [
    "df_cleaned_reviews.isnull().sum()"
   ]
  },
  {
   "cell_type": "markdown",
   "metadata": {},
   "source": [
    "Evaluamos que features son categoricas"
   ]
  },
  {
   "cell_type": "code",
   "execution_count": 7,
   "metadata": {},
   "outputs": [
    {
     "data": {
      "text/plain": [
       "country\n",
       "United Kingdom           2165\n",
       "United States             361\n",
       "Australia                 147\n",
       "Canada                    104\n",
       "Germany                    60\n",
       "                         ... \n",
       "Iceland                     1\n",
       "Saint Kitts and Nevis       1\n",
       "Costa Rica                  1\n",
       "Cayman Islands              1\n",
       "Oman                        1\n",
       "Name: count, Length: 69, dtype: int64"
      ]
     },
     "execution_count": 7,
     "metadata": {},
     "output_type": "execute_result"
    }
   ],
   "source": [
    "df_cleaned_reviews[\"country\"].value_counts()"
   ]
  },
  {
   "cell_type": "code",
   "execution_count": 8,
   "metadata": {},
   "outputs": [
    {
     "data": {
      "text/plain": [
       "verified\n",
       "False    2435\n",
       "True      976\n",
       "Name: count, dtype: int64"
      ]
     },
     "execution_count": 8,
     "metadata": {},
     "output_type": "execute_result"
    }
   ],
   "source": [
    "df_cleaned_reviews[\"verified\"].value_counts()"
   ]
  },
  {
   "cell_type": "code",
   "execution_count": 9,
   "metadata": {},
   "outputs": [
    {
     "data": {
      "text/plain": [
       "verified\n",
       "False    2435\n",
       "True      976\n",
       "Name: count, dtype: int64"
      ]
     },
     "execution_count": 9,
     "metadata": {},
     "output_type": "execute_result"
    }
   ],
   "source": [
    "df_cleaned_reviews[\"verified\"].value_counts()"
   ]
  },
  {
   "cell_type": "markdown",
   "metadata": {},
   "source": [
    "### Limpieza de datos"
   ]
  },
  {
   "cell_type": "markdown",
   "metadata": {},
   "source": [
    "Limpia los datos tratando con valores faltantes, valores atípicos, duplicados, y cualquier otro problema que pueda afectar la calidad de los datos y los análisis posteriores."
   ]
  },
  {
   "cell_type": "code",
   "execution_count": 10,
   "metadata": {},
   "outputs": [],
   "source": [
    "# Eliminamos la columna \"Unnamed: 0\"\n",
    "df_cleaned_reviews = df_cleaned_reviews.drop(columns=['Unnamed: 0'])\n",
    "\n",
    "# Convertir la columna \"date\" a tipo datetime\n",
    "df_cleaned_reviews['date'] = pd.to_datetime(df_cleaned_reviews['date'])\n",
    "\n",
    "# Eliminar filas duplicados.\n",
    "df_cleaned_reviews.drop_duplicates(inplace=True)\n",
    "\n",
    "# La columna \"country\" es una variable categórica, por lo que la convertimos a tipo \"category\"\n",
    "df_cleaned_reviews['country'] = df_cleaned_reviews['country'].astype('category')"
   ]
  },
  {
   "cell_type": "markdown",
   "metadata": {},
   "source": [
    "### Resumen estadístico"
   ]
  },
  {
   "cell_type": "markdown",
   "metadata": {},
   "source": [
    "Calcula estadísticas descriptivas como la media, la mediana, la desviación estándar, los percentiles, etc., para comprender mejor la distribución y la variabilidad de los datos."
   ]
  },
  {
   "cell_type": "code",
   "execution_count": 11,
   "metadata": {},
   "outputs": [
    {
     "data": {
      "text/html": [
       "<div>\n",
       "<style scoped>\n",
       "    .dataframe tbody tr th:only-of-type {\n",
       "        vertical-align: middle;\n",
       "    }\n",
       "\n",
       "    .dataframe tbody tr th {\n",
       "        vertical-align: top;\n",
       "    }\n",
       "\n",
       "    .dataframe thead th {\n",
       "        text-align: right;\n",
       "    }\n",
       "</style>\n",
       "<table border=\"1\" class=\"dataframe\">\n",
       "  <thead>\n",
       "    <tr style=\"text-align: right;\">\n",
       "      <th></th>\n",
       "      <th>rates</th>\n",
       "      <th>date</th>\n",
       "    </tr>\n",
       "  </thead>\n",
       "  <tbody>\n",
       "    <tr>\n",
       "      <th>count</th>\n",
       "      <td>3410.000000</td>\n",
       "      <td>3410</td>\n",
       "    </tr>\n",
       "    <tr>\n",
       "      <th>mean</th>\n",
       "      <td>4.819941</td>\n",
       "      <td>2017-05-18 07:24:14.780058624</td>\n",
       "    </tr>\n",
       "    <tr>\n",
       "      <th>min</th>\n",
       "      <td>1.000000</td>\n",
       "      <td>2014-05-18 00:00:00</td>\n",
       "    </tr>\n",
       "    <tr>\n",
       "      <th>25%</th>\n",
       "      <td>2.000000</td>\n",
       "      <td>2015-08-15 00:00:00</td>\n",
       "    </tr>\n",
       "    <tr>\n",
       "      <th>50%</th>\n",
       "      <td>4.000000</td>\n",
       "      <td>2016-12-08 12:00:00</td>\n",
       "    </tr>\n",
       "    <tr>\n",
       "      <th>75%</th>\n",
       "      <td>8.000000</td>\n",
       "      <td>2018-09-15 18:00:00</td>\n",
       "    </tr>\n",
       "    <tr>\n",
       "      <th>max</th>\n",
       "      <td>10.000000</td>\n",
       "      <td>2023-01-24 00:00:00</td>\n",
       "    </tr>\n",
       "    <tr>\n",
       "      <th>std</th>\n",
       "      <td>3.145510</td>\n",
       "      <td>NaN</td>\n",
       "    </tr>\n",
       "  </tbody>\n",
       "</table>\n",
       "</div>"
      ],
      "text/plain": [
       "             rates                           date\n",
       "count  3410.000000                           3410\n",
       "mean      4.819941  2017-05-18 07:24:14.780058624\n",
       "min       1.000000            2014-05-18 00:00:00\n",
       "25%       2.000000            2015-08-15 00:00:00\n",
       "50%       4.000000            2016-12-08 12:00:00\n",
       "75%       8.000000            2018-09-15 18:00:00\n",
       "max      10.000000            2023-01-24 00:00:00\n",
       "std       3.145510                            NaN"
      ]
     },
     "execution_count": 11,
     "metadata": {},
     "output_type": "execute_result"
    }
   ],
   "source": [
    "df_cleaned_reviews.describe()"
   ]
  },
  {
   "cell_type": "markdown",
   "metadata": {},
   "source": [
    "## Graficos"
   ]
  },
  {
   "cell_type": "markdown",
   "metadata": {},
   "source": [
    "### Cantidad de comentarios por país"
   ]
  },
  {
   "cell_type": "code",
   "execution_count": 12,
   "metadata": {},
   "outputs": [],
   "source": [
    "cantidad = df_cleaned_reviews.rates.value_counts().sort_index()"
   ]
  },
  {
   "cell_type": "code",
   "execution_count": 13,
   "metadata": {},
   "outputs": [
    {
     "data": {
      "image/png": "[encoded data removed]",
      "text/plain": [
       "<Figure size 1000x600 with 1 Axes>"
      ]
     },
     "metadata": {},
     "output_type": "display_data"
    }
   ],
   "source": [
    "plt.figure(figsize=(10, 6))\n",
    "sns.barplot(x=cantidad.index, y=cantidad.values)\n",
    "plt.title('Cantidad de comentarios por calificación')\n",
    "plt.xlabel('Calificación')\n",
    "plt.ylabel('Cantidad')\n",
    "\n",
    "for i in range(cantidad.shape[0]):\n",
    "    plt.text(i, cantidad.values[i], f'{cantidad.values[i]}\\n({cantidad.values[i]/cantidad.sum()*100:.2f}%)', ha='center', va='bottom')\n",
    "\n",
    "plt.yticks(range(0, 850, 50))\n",
    "\n",
    "plt.show()"
   ]
  },
  {
   "cell_type": "markdown",
   "metadata": {},
   "source": [
    "### ¿Qué paises hicieron mas reviews?"
   ]
  },
  {
   "cell_type": "code",
   "execution_count": 14,
   "metadata": {},
   "outputs": [
    {
     "name": "stderr",
     "output_type": "stream",
     "text": [
      "C:\\Users\\lufer\\AppData\\Local\\Temp\\ipykernel_25640\\1981308916.py:1: FutureWarning: The default of observed=False is deprecated and will be changed to True in a future version of pandas. Pass observed=False to retain current behavior or observed=True to adopt the future default and silence this warning.\n",
      "  number_of_reviews_per_country = df_cleaned_reviews.groupby([\"country\"])[\"reviews\"].count()\n"
     ]
    }
   ],
   "source": [
    "number_of_reviews_per_country = df_cleaned_reviews.groupby([\"country\"])[\"reviews\"].count()"
   ]
  },
  {
   "cell_type": "code",
   "execution_count": 15,
   "metadata": {},
   "outputs": [
    {
     "name": "stderr",
     "output_type": "stream",
     "text": [
      "C:\\Users\\lufer\\AppData\\Local\\Temp\\ipykernel_25640\\928160679.py:1: FutureWarning: The default of observed=False is deprecated and will be changed to True in a future version of pandas. Pass observed=False to retain current behavior or observed=True to adopt the future default and silence this warning.\n",
      "  group = df_cleaned_reviews.groupby([\"verified\", \"country\"])[\"reviews\"].count()\n"
     ]
    }
   ],
   "source": [
    "group = df_cleaned_reviews.groupby([\"verified\", \"country\"])[\"reviews\"].count()\n",
    "number_reviews_per_country_true = group.loc[True]  \n",
    "number_reviews_per_country_false = group.loc[False]  "
   ]
  },
  {
   "cell_type": "code",
   "execution_count": 16,
   "metadata": {},
   "outputs": [
    {
     "data": {
      "text/plain": [
       "country\n",
       "United Kingdom    558\n",
       "United States     137\n",
       "Australia          30\n",
       "Canada             28\n",
       "Germany            28\n",
       "Others            195\n",
       "Name: reviews, dtype: int64"
      ]
     },
     "execution_count": 16,
     "metadata": {},
     "output_type": "execute_result"
    }
   ],
   "source": [
    "five_more_reviews_true = number_reviews_per_country_true.nlargest()\n",
    "five_more_reviews_true[\"Others\"] = number_reviews_per_country_true.sum() - five_more_reviews_true.sum()\n",
    "five_more_reviews_true"
   ]
  },
  {
   "cell_type": "code",
   "execution_count": 17,
   "metadata": {},
   "outputs": [
    {
     "data": {
      "text/plain": [
       "country\n",
       "United Kingdom    1606\n",
       "United States      224\n",
       "Australia          117\n",
       "Canada              76\n",
       "Germany             32\n",
       "Others             379\n",
       "Name: reviews, dtype: int64"
      ]
     },
     "execution_count": 17,
     "metadata": {},
     "output_type": "execute_result"
    }
   ],
   "source": [
    "five_more_reviews_false = number_reviews_per_country_false.nlargest()\n",
    "five_more_reviews_false[\"Others\"] = number_reviews_per_country_false.sum() - five_more_reviews_false.sum()\n",
    "five_more_reviews_false"
   ]
  },
  {
   "cell_type": "code",
   "execution_count": 18,
   "metadata": {},
   "outputs": [
    {
     "data": {
      "image/png": "[encoded data removed]",
      "text/plain": [
       "<Figure size 2000x600 with 2 Axes>"
      ]
     },
     "metadata": {},
     "output_type": "display_data"
    }
   ],
   "source": [
    "# barplot verified = True and verified = False\n",
    "fig, axes = plt.subplots(1, 2, figsize=(20, 6))\n",
    "\n",
    "sns.barplot(x=five_more_reviews_true.index, y=five_more_reviews_true.values, ax=axes[0])\n",
    "\n",
    "axes[0].set_title('Cantidad de comentarios verificados por país')\n",
    "axes[0].set_xlabel('País')\n",
    "axes[0].set_ylabel('Cantidad')\n",
    "\n",
    "for i in range(five_more_reviews_true.shape[0]):\n",
    "    axes[0].text(i, five_more_reviews_true.values[i], f'{five_more_reviews_true.values[i]}', ha='center', va='bottom')\n",
    "\n",
    "sns.barplot(x=five_more_reviews_false.index, y=five_more_reviews_false.values, ax=axes[1])\n",
    "\n",
    "axes[1].set_title('Cantidad de comentarios no verificados por país')\n",
    "axes[1].set_xlabel('País')\n",
    "axes[1].set_ylabel('Cantidad')\n",
    "\n",
    "for i in range(five_more_reviews_false.shape[0]):\n",
    "    axes[1].text(i, five_more_reviews_false.values[i], f'{five_more_reviews_false.values[i]}', ha='center', va='bottom')\n",
    "\n",
    "plt.show()"
   ]
  },
  {
   "cell_type": "markdown",
   "metadata": {},
   "source": [
    "Grafico de barras apiladas"
   ]
  },
  {
   "cell_type": "code",
   "execution_count": 19,
   "metadata": {},
   "outputs": [
    {
     "data": {
      "image/png": "[encoded data removed]",
      "text/plain": [
       "<Figure size 2000x1000 with 1 Axes>"
      ]
     },
     "metadata": {},
     "output_type": "display_data"
    }
   ],
   "source": [
    "fig, ax = plt.subplots(figsize=(20, 10))\n",
    "\n",
    "ax.bar(five_more_reviews_true.index, five_more_reviews_true.values, label='Verificado')\n",
    "ax.bar(five_more_reviews_false.index, five_more_reviews_false.values, bottom=five_more_reviews_true.values, label='No verificado')\n",
    "\n",
    "ax.set_title('Cantidad de comentarios por país')\n",
    "ax.set_xlabel('País')\n",
    "ax.set_ylabel('Cantidad')\n",
    "\n",
    "ax.set_yticks(range(0, 2300, 100))\n",
    "\n",
    "ax.legend()\n",
    "\n",
    "plt.show()\n"
   ]
  },
  {
   "cell_type": "markdown",
   "metadata": {},
   "source": [
    "# `filtered_customer_booking.csv`"
   ]
  },
  {
   "cell_type": "markdown",
   "metadata": {},
   "source": [
    "## Análisis Exploratorio"
   ]
  },
  {
   "cell_type": "markdown",
   "metadata": {},
   "source": [
    "### Carga de datos"
   ]
  },
  {
   "cell_type": "code",
   "execution_count": 20,
   "metadata": {},
   "outputs": [],
   "source": [
    "df_filtered = pd.read_csv('dataset/filtered_customer_booking.csv')"
   ]
  },
  {
   "cell_type": "markdown",
   "metadata": {},
   "source": [
    "### Revisión de datos"
   ]
  },
  {
   "cell_type": "code",
   "execution_count": 21,
   "metadata": {},
   "outputs": [
    {
     "data": {
      "text/html": [
       "<div>\n",
       "<style scoped>\n",
       "    .dataframe tbody tr th:only-of-type {\n",
       "        vertical-align: middle;\n",
       "    }\n",
       "\n",
       "    .dataframe tbody tr th {\n",
       "        vertical-align: top;\n",
       "    }\n",
       "\n",
       "    .dataframe thead th {\n",
       "        text-align: right;\n",
       "    }\n",
       "</style>\n",
       "<table border=\"1\" class=\"dataframe\">\n",
       "  <thead>\n",
       "    <tr style=\"text-align: right;\">\n",
       "      <th></th>\n",
       "      <th>Unnamed: 0</th>\n",
       "      <th>num_passengers</th>\n",
       "      <th>sales_channel</th>\n",
       "      <th>trip_type</th>\n",
       "      <th>purchase_lead</th>\n",
       "      <th>length_of_stay</th>\n",
       "      <th>flight_hour</th>\n",
       "      <th>flight_day</th>\n",
       "      <th>route</th>\n",
       "      <th>booking_origin</th>\n",
       "      <th>wants_extra_baggage</th>\n",
       "      <th>wants_preferred_seat</th>\n",
       "      <th>wants_in_flight_meals</th>\n",
       "      <th>flight_duration</th>\n",
       "      <th>booking_complete</th>\n",
       "    </tr>\n",
       "  </thead>\n",
       "  <tbody>\n",
       "    <tr>\n",
       "      <th>0</th>\n",
       "      <td>0</td>\n",
       "      <td>2</td>\n",
       "      <td>Internet</td>\n",
       "      <td>RoundTrip</td>\n",
       "      <td>262</td>\n",
       "      <td>19</td>\n",
       "      <td>7</td>\n",
       "      <td>6</td>\n",
       "      <td>AKLDEL</td>\n",
       "      <td>New Zealand</td>\n",
       "      <td>1</td>\n",
       "      <td>0</td>\n",
       "      <td>0</td>\n",
       "      <td>5.52</td>\n",
       "      <td>0</td>\n",
       "    </tr>\n",
       "    <tr>\n",
       "      <th>1</th>\n",
       "      <td>1</td>\n",
       "      <td>1</td>\n",
       "      <td>Internet</td>\n",
       "      <td>RoundTrip</td>\n",
       "      <td>112</td>\n",
       "      <td>20</td>\n",
       "      <td>3</td>\n",
       "      <td>6</td>\n",
       "      <td>AKLDEL</td>\n",
       "      <td>New Zealand</td>\n",
       "      <td>0</td>\n",
       "      <td>0</td>\n",
       "      <td>0</td>\n",
       "      <td>5.52</td>\n",
       "      <td>0</td>\n",
       "    </tr>\n",
       "    <tr>\n",
       "      <th>2</th>\n",
       "      <td>2</td>\n",
       "      <td>2</td>\n",
       "      <td>Internet</td>\n",
       "      <td>RoundTrip</td>\n",
       "      <td>243</td>\n",
       "      <td>22</td>\n",
       "      <td>17</td>\n",
       "      <td>3</td>\n",
       "      <td>AKLDEL</td>\n",
       "      <td>India</td>\n",
       "      <td>1</td>\n",
       "      <td>1</td>\n",
       "      <td>0</td>\n",
       "      <td>5.52</td>\n",
       "      <td>0</td>\n",
       "    </tr>\n",
       "    <tr>\n",
       "      <th>3</th>\n",
       "      <td>3</td>\n",
       "      <td>1</td>\n",
       "      <td>Internet</td>\n",
       "      <td>RoundTrip</td>\n",
       "      <td>96</td>\n",
       "      <td>31</td>\n",
       "      <td>4</td>\n",
       "      <td>6</td>\n",
       "      <td>AKLDEL</td>\n",
       "      <td>New Zealand</td>\n",
       "      <td>0</td>\n",
       "      <td>0</td>\n",
       "      <td>1</td>\n",
       "      <td>5.52</td>\n",
       "      <td>0</td>\n",
       "    </tr>\n",
       "    <tr>\n",
       "      <th>4</th>\n",
       "      <td>4</td>\n",
       "      <td>2</td>\n",
       "      <td>Internet</td>\n",
       "      <td>RoundTrip</td>\n",
       "      <td>68</td>\n",
       "      <td>22</td>\n",
       "      <td>15</td>\n",
       "      <td>3</td>\n",
       "      <td>AKLDEL</td>\n",
       "      <td>India</td>\n",
       "      <td>1</td>\n",
       "      <td>0</td>\n",
       "      <td>1</td>\n",
       "      <td>5.52</td>\n",
       "      <td>0</td>\n",
       "    </tr>\n",
       "  </tbody>\n",
       "</table>\n",
       "</div>"
      ],
      "text/plain": [
       "   Unnamed: 0  num_passengers sales_channel  trip_type  purchase_lead  \\\n",
       "0           0               2      Internet  RoundTrip            262   \n",
       "1           1               1      Internet  RoundTrip            112   \n",
       "2           2               2      Internet  RoundTrip            243   \n",
       "3           3               1      Internet  RoundTrip             96   \n",
       "4           4               2      Internet  RoundTrip             68   \n",
       "\n",
       "   length_of_stay  flight_hour  flight_day   route booking_origin  \\\n",
       "0              19            7           6  AKLDEL    New Zealand   \n",
       "1              20            3           6  AKLDEL    New Zealand   \n",
       "2              22           17           3  AKLDEL          India   \n",
       "3              31            4           6  AKLDEL    New Zealand   \n",
       "4              22           15           3  AKLDEL          India   \n",
       "\n",
       "   wants_extra_baggage  wants_preferred_seat  wants_in_flight_meals  \\\n",
       "0                    1                     0                      0   \n",
       "1                    0                     0                      0   \n",
       "2                    1                     1                      0   \n",
       "3                    0                     0                      1   \n",
       "4                    1                     0                      1   \n",
       "\n",
       "   flight_duration  booking_complete  \n",
       "0             5.52                 0  \n",
       "1             5.52                 0  \n",
       "2             5.52                 0  \n",
       "3             5.52                 0  \n",
       "4             5.52                 0  "
      ]
     },
     "execution_count": 21,
     "metadata": {},
     "output_type": "execute_result"
    }
   ],
   "source": [
    "df_filtered.head()"
   ]
  },
  {
   "cell_type": "code",
   "execution_count": 22,
   "metadata": {},
   "outputs": [
    {
     "data": {
      "text/plain": [
       "(49982, 15)"
      ]
     },
     "execution_count": 22,
     "metadata": {},
     "output_type": "execute_result"
    }
   ],
   "source": [
    "df_filtered.shape"
   ]
  },
  {
   "cell_type": "code",
   "execution_count": 23,
   "metadata": {},
   "outputs": [
    {
     "name": "stdout",
     "output_type": "stream",
     "text": [
      "<class 'pandas.core.frame.DataFrame'>\n",
      "RangeIndex: 49982 entries, 0 to 49981\n",
      "Data columns (total 15 columns):\n",
      " #   Column                 Non-Null Count  Dtype  \n",
      "---  ------                 --------------  -----  \n",
      " 0   Unnamed: 0             49982 non-null  int64  \n",
      " 1   num_passengers         49982 non-null  int64  \n",
      " 2   sales_channel          49982 non-null  object \n",
      " 3   trip_type              49982 non-null  object \n",
      " 4   purchase_lead          49982 non-null  int64  \n",
      " 5   length_of_stay         49982 non-null  int64  \n",
      " 6   flight_hour            49982 non-null  int64  \n",
      " 7   flight_day             49982 non-null  int64  \n",
      " 8   route                  49982 non-null  object \n",
      " 9   booking_origin         49982 non-null  object \n",
      " 10  wants_extra_baggage    49982 non-null  int64  \n",
      " 11  wants_preferred_seat   49982 non-null  int64  \n",
      " 12  wants_in_flight_meals  49982 non-null  int64  \n",
      " 13  flight_duration        49982 non-null  float64\n",
      " 14  booking_complete       49982 non-null  int64  \n",
      "dtypes: float64(1), int64(10), object(4)\n",
      "memory usage: 5.7+ MB\n"
     ]
    }
   ],
   "source": [
    "df_filtered.info()"
   ]
  },
  {
   "cell_type": "markdown",
   "metadata": {},
   "source": [
    "valores nulos"
   ]
  },
  {
   "cell_type": "code",
   "execution_count": 24,
   "metadata": {},
   "outputs": [
    {
     "data": {
      "text/plain": [
       "Unnamed: 0               0\n",
       "num_passengers           0\n",
       "sales_channel            0\n",
       "trip_type                0\n",
       "purchase_lead            0\n",
       "length_of_stay           0\n",
       "flight_hour              0\n",
       "flight_day               0\n",
       "route                    0\n",
       "booking_origin           0\n",
       "wants_extra_baggage      0\n",
       "wants_preferred_seat     0\n",
       "wants_in_flight_meals    0\n",
       "flight_duration          0\n",
       "booking_complete         0\n",
       "dtype: int64"
      ]
     },
     "execution_count": 24,
     "metadata": {},
     "output_type": "execute_result"
    }
   ],
   "source": [
    "df_filtered.isnull().sum()"
   ]
  },
  {
   "cell_type": "markdown",
   "metadata": {},
   "source": [
    "Posibles columnas categoricas"
   ]
  },
  {
   "cell_type": "code",
   "execution_count": 25,
   "metadata": {},
   "outputs": [
    {
     "data": {
      "text/plain": [
       "sales_channel\n",
       "Internet    44366\n",
       "Mobile       5616\n",
       "Name: count, dtype: int64"
      ]
     },
     "execution_count": 25,
     "metadata": {},
     "output_type": "execute_result"
    }
   ],
   "source": [
    "df_filtered[\"sales_channel\"].value_counts()"
   ]
  },
  {
   "cell_type": "code",
   "execution_count": 26,
   "metadata": {},
   "outputs": [
    {
     "data": {
      "text/plain": [
       "trip_type\n",
       "RoundTrip     49479\n",
       "OneWay          387\n",
       "CircleTrip      116\n",
       "Name: count, dtype: int64"
      ]
     },
     "execution_count": 26,
     "metadata": {},
     "output_type": "execute_result"
    }
   ],
   "source": [
    "df_filtered[\"trip_type\"].value_counts()"
   ]
  },
  {
   "cell_type": "code",
   "execution_count": 27,
   "metadata": {},
   "outputs": [
    {
     "data": {
      "text/plain": [
       "route\n",
       "AKLKUL    2678\n",
       "PENTPE     924\n",
       "MELSGN     842\n",
       "ICNSIN     801\n",
       "DMKKIX     744\n",
       "          ... \n",
       "LBUTPE       1\n",
       "CXRMEL       1\n",
       "DELKBR       1\n",
       "KOSSYD       1\n",
       "MRUXIY       1\n",
       "Name: count, Length: 799, dtype: int64"
      ]
     },
     "execution_count": 27,
     "metadata": {},
     "output_type": "execute_result"
    }
   ],
   "source": [
    "df_filtered[\"route\"].value_counts()"
   ]
  },
  {
   "cell_type": "code",
   "execution_count": 28,
   "metadata": {},
   "outputs": [
    {
     "data": {
      "text/plain": [
       "booking_origin\n",
       "Australia               17865\n",
       "Malaysia                 7173\n",
       "South Korea              4559\n",
       "Japan                    3884\n",
       "China                    3387\n",
       "                        ...  \n",
       "Panama                      1\n",
       "Tonga                       1\n",
       "Tanzania                    1\n",
       "Bulgaria                    1\n",
       "Svalbard & Jan Mayen        1\n",
       "Name: count, Length: 104, dtype: int64"
      ]
     },
     "execution_count": 28,
     "metadata": {},
     "output_type": "execute_result"
    }
   ],
   "source": [
    "df_filtered[\"booking_origin\"].value_counts()"
   ]
  },
  {
   "cell_type": "markdown",
   "metadata": {},
   "source": [
    "### Resumen estadistico"
   ]
  },
  {
   "cell_type": "code",
   "execution_count": 29,
   "metadata": {},
   "outputs": [
    {
     "data": {
      "text/html": [
       "<div>\n",
       "<style scoped>\n",
       "    .dataframe tbody tr th:only-of-type {\n",
       "        vertical-align: middle;\n",
       "    }\n",
       "\n",
       "    .dataframe tbody tr th {\n",
       "        vertical-align: top;\n",
       "    }\n",
       "\n",
       "    .dataframe thead th {\n",
       "        text-align: right;\n",
       "    }\n",
       "</style>\n",
       "<table border=\"1\" class=\"dataframe\">\n",
       "  <thead>\n",
       "    <tr style=\"text-align: right;\">\n",
       "      <th></th>\n",
       "      <th>Unnamed: 0</th>\n",
       "      <th>num_passengers</th>\n",
       "      <th>purchase_lead</th>\n",
       "      <th>length_of_stay</th>\n",
       "      <th>flight_hour</th>\n",
       "      <th>flight_day</th>\n",
       "      <th>wants_extra_baggage</th>\n",
       "      <th>wants_preferred_seat</th>\n",
       "      <th>wants_in_flight_meals</th>\n",
       "      <th>flight_duration</th>\n",
       "      <th>booking_complete</th>\n",
       "    </tr>\n",
       "  </thead>\n",
       "  <tbody>\n",
       "    <tr>\n",
       "      <th>count</th>\n",
       "      <td>49982.000000</td>\n",
       "      <td>49982.000000</td>\n",
       "      <td>49982.000000</td>\n",
       "      <td>49982.000000</td>\n",
       "      <td>49982.000000</td>\n",
       "      <td>49982.000000</td>\n",
       "      <td>49982.000000</td>\n",
       "      <td>49982.000000</td>\n",
       "      <td>49982.000000</td>\n",
       "      <td>49982.000000</td>\n",
       "      <td>49982.000000</td>\n",
       "    </tr>\n",
       "    <tr>\n",
       "      <th>mean</th>\n",
       "      <td>24999.957905</td>\n",
       "      <td>1.591133</td>\n",
       "      <td>84.754652</td>\n",
       "      <td>23.046757</td>\n",
       "      <td>9.065344</td>\n",
       "      <td>3.814253</td>\n",
       "      <td>0.668881</td>\n",
       "      <td>0.297047</td>\n",
       "      <td>0.427174</td>\n",
       "      <td>7.277333</td>\n",
       "      <td>0.149574</td>\n",
       "    </tr>\n",
       "    <tr>\n",
       "      <th>std</th>\n",
       "      <td>14433.587942</td>\n",
       "      <td>1.020217</td>\n",
       "      <td>89.923276</td>\n",
       "      <td>33.892624</td>\n",
       "      <td>5.412551</td>\n",
       "      <td>1.992722</td>\n",
       "      <td>0.470621</td>\n",
       "      <td>0.456962</td>\n",
       "      <td>0.494673</td>\n",
       "      <td>1.496829</td>\n",
       "      <td>0.356657</td>\n",
       "    </tr>\n",
       "    <tr>\n",
       "      <th>min</th>\n",
       "      <td>0.000000</td>\n",
       "      <td>1.000000</td>\n",
       "      <td>0.000000</td>\n",
       "      <td>0.000000</td>\n",
       "      <td>0.000000</td>\n",
       "      <td>1.000000</td>\n",
       "      <td>0.000000</td>\n",
       "      <td>0.000000</td>\n",
       "      <td>0.000000</td>\n",
       "      <td>4.670000</td>\n",
       "      <td>0.000000</td>\n",
       "    </tr>\n",
       "    <tr>\n",
       "      <th>25%</th>\n",
       "      <td>12500.250000</td>\n",
       "      <td>1.000000</td>\n",
       "      <td>21.000000</td>\n",
       "      <td>5.000000</td>\n",
       "      <td>5.000000</td>\n",
       "      <td>2.000000</td>\n",
       "      <td>0.000000</td>\n",
       "      <td>0.000000</td>\n",
       "      <td>0.000000</td>\n",
       "      <td>5.620000</td>\n",
       "      <td>0.000000</td>\n",
       "    </tr>\n",
       "    <tr>\n",
       "      <th>50%</th>\n",
       "      <td>25000.500000</td>\n",
       "      <td>1.000000</td>\n",
       "      <td>51.000000</td>\n",
       "      <td>17.000000</td>\n",
       "      <td>9.000000</td>\n",
       "      <td>4.000000</td>\n",
       "      <td>1.000000</td>\n",
       "      <td>0.000000</td>\n",
       "      <td>0.000000</td>\n",
       "      <td>7.570000</td>\n",
       "      <td>0.000000</td>\n",
       "    </tr>\n",
       "    <tr>\n",
       "      <th>75%</th>\n",
       "      <td>37498.750000</td>\n",
       "      <td>2.000000</td>\n",
       "      <td>115.000000</td>\n",
       "      <td>28.000000</td>\n",
       "      <td>13.000000</td>\n",
       "      <td>5.000000</td>\n",
       "      <td>1.000000</td>\n",
       "      <td>1.000000</td>\n",
       "      <td>1.000000</td>\n",
       "      <td>8.830000</td>\n",
       "      <td>0.000000</td>\n",
       "    </tr>\n",
       "    <tr>\n",
       "      <th>max</th>\n",
       "      <td>49999.000000</td>\n",
       "      <td>9.000000</td>\n",
       "      <td>495.000000</td>\n",
       "      <td>778.000000</td>\n",
       "      <td>23.000000</td>\n",
       "      <td>7.000000</td>\n",
       "      <td>1.000000</td>\n",
       "      <td>1.000000</td>\n",
       "      <td>1.000000</td>\n",
       "      <td>9.500000</td>\n",
       "      <td>1.000000</td>\n",
       "    </tr>\n",
       "  </tbody>\n",
       "</table>\n",
       "</div>"
      ],
      "text/plain": [
       "         Unnamed: 0  num_passengers  purchase_lead  length_of_stay  \\\n",
       "count  49982.000000    49982.000000   49982.000000    49982.000000   \n",
       "mean   24999.957905        1.591133      84.754652       23.046757   \n",
       "std    14433.587942        1.020217      89.923276       33.892624   \n",
       "min        0.000000        1.000000       0.000000        0.000000   \n",
       "25%    12500.250000        1.000000      21.000000        5.000000   \n",
       "50%    25000.500000        1.000000      51.000000       17.000000   \n",
       "75%    37498.750000        2.000000     115.000000       28.000000   \n",
       "max    49999.000000        9.000000     495.000000      778.000000   \n",
       "\n",
       "        flight_hour    flight_day  wants_extra_baggage  wants_preferred_seat  \\\n",
       "count  49982.000000  49982.000000         49982.000000          49982.000000   \n",
       "mean       9.065344      3.814253             0.668881              0.297047   \n",
       "std        5.412551      1.992722             0.470621              0.456962   \n",
       "min        0.000000      1.000000             0.000000              0.000000   \n",
       "25%        5.000000      2.000000             0.000000              0.000000   \n",
       "50%        9.000000      4.000000             1.000000              0.000000   \n",
       "75%       13.000000      5.000000             1.000000              1.000000   \n",
       "max       23.000000      7.000000             1.000000              1.000000   \n",
       "\n",
       "       wants_in_flight_meals  flight_duration  booking_complete  \n",
       "count           49982.000000     49982.000000      49982.000000  \n",
       "mean                0.427174         7.277333          0.149574  \n",
       "std                 0.494673         1.496829          0.356657  \n",
       "min                 0.000000         4.670000          0.000000  \n",
       "25%                 0.000000         5.620000          0.000000  \n",
       "50%                 0.000000         7.570000          0.000000  \n",
       "75%                 1.000000         8.830000          0.000000  \n",
       "max                 1.000000         9.500000          1.000000  "
      ]
     },
     "execution_count": 29,
     "metadata": {},
     "output_type": "execute_result"
    }
   ],
   "source": [
    "df_filtered.describe()"
   ]
  },
  {
   "cell_type": "markdown",
   "metadata": {},
   "source": [
    "### limpiza de datos"
   ]
  },
  {
   "cell_type": "code",
   "execution_count": 30,
   "metadata": {},
   "outputs": [],
   "source": [
    "# Eliminamos la columna \"Unnamed: 0\"\n",
    "df_filtered = df_filtered.drop(columns=['Unnamed: 0'])\n",
    "\n",
    "df_filtered['sales_channel'] = df_filtered['sales_channel'].astype('category')\n",
    "df_filtered['trip_type'] = df_filtered['trip_type'].astype('category')\n",
    "df_filtered['route'] = df_filtered['route'].astype('category')\n",
    "df_filtered['booking_origin'] = df_filtered['booking_origin'].astype('category')"
   ]
  },
  {
   "cell_type": "markdown",
   "metadata": {},
   "source": [
    "## Graficos"
   ]
  },
  {
   "cell_type": "code",
   "execution_count": 31,
   "metadata": {},
   "outputs": [
    {
     "data": {
      "text/plain": [
       "Text(0.5, 1.0, 'Distribución de la variable \"purchase_lead\"')"
      ]
     },
     "execution_count": 31,
     "metadata": {},
     "output_type": "execute_result"
    },
    {
     "data": {
      "image/png": "[encoded data removed]",
      "text/plain": [
       "<Figure size 1000x600 with 1 Axes>"
      ]
     },
     "metadata": {},
     "output_type": "display_data"
    }
   ],
   "source": [
    "# Graficams la distribución \tpurchase_lead\n",
    "plt.figure(figsize=(10, 6))\n",
    "sns.histplot(df_filtered.purchase_lead, kde=True)\n",
    "plt.title('Distribución de la variable \"purchase_lead\"')"
   ]
  },
  {
   "cell_type": "code",
   "execution_count": null,
   "metadata": {},
   "outputs": [],
   "source": []
  }
 ],
 "metadata": {
  "kernelspec": {
   "display_name": "Python 3",
   "language": "python",
   "name": "python3"
  },
  "language_info": {
   "codemirror_mode": {
    "name": "ipython",
    "version": 3
   },
   "file_extension": ".py",
   "mimetype": "text/x-python",
   "name": "python",
   "nbconvert_exporter": "python",
   "pygments_lexer": "ipython3",
   "version": "3.10.10"
  }
 },
 "nbformat": 4,
 "nbformat_minor": 2
}
